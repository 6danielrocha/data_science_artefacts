{
 "cells": [
  {
   "cell_type": "markdown",
   "metadata": {},
   "source": [
    "# Telecom's Churn Dataset - Predict behavior to retain customers"
   ]
  },
  {
   "cell_type": "markdown",
   "metadata": {},
   "source": [
    "<img style=\"display: block; margin-left: auto; margin-right: auto;\" \n",
    "src=\"images/churn.jpeg\" alt=\"Churn\" width=\"800\" height=\"200\" />\n"
   ]
  },
  {
   "cell_type": "markdown",
   "metadata": {},
   "source": [
    "https://www.kaggle.com/mnassrib/telecom-churn-datasets\n",
    "\n",
    "#### Context\n",
    "\"Predict behavior to retain customers. You can analyze all relevant customer data and develop focused customer retention programs.\"\n",
    "\n",
    "#### Content\n",
    "The Orange Telecom's Churn Dataset, which consists of cleaned customer activity data (features), along with a churn label specifying whether a customer canceled the subscription, will be used to develop predictive models. Two datasets are made available here: The churn-80 and churn-20 datasets can be downloaded.\n",
    "\n",
    "The two sets are from the same batch, but have been split by an 80/20 ratio. As more data is often desirable for developing ML models, let's use the larger set (that is, churn-80) for training and cross-validation purposes, and the smaller set (that is, churn-20) for final testing and model performance evaluation.\n",
    "\n",
    "#### Inspiration\n",
    "To explore this type of models and learn more about the subject.\n",
    "\n",
    "#### About this file\n",
    "Telecom Churn Datasets\n",
    "\n",
    "Each row represents a customer; each column contains customer’s attributes. The datasets have the following attributes or features:\n",
    "\n",
    "<ul>\n",
    "<li>State: string -  Estado</li>\n",
    "<li>Account length: integer</li>\n",
    "<li>Area code: integer - Código de Area</li>\n",
    "<li>International plan: string - Tem plano internacional</li>\n",
    "<li>Voice mail plan: string - Tem plano de voicemail</li>\n",
    "<li>Number vmail messages: integer</li>\n",
    "<li>Total day minutes: double</li>\n",
    "<li>Total day calls: integer</li>\n",
    "<li>Total day charge: double</li>\n",
    "<li>Total eve minutes: double</li>\n",
    "<li>Total eve calls: integer</li>\n",
    "<li>Total eve charge: double</li>\n",
    "<li>Total night minutes: double</li>\n",
    "<li>Total night calls: integer</li>\n",
    "<li>Total night charge: double</li>\n",
    "<li>Total intl minutes: double</li>\n",
    "<li>Total intl calls: integer</li>\n",
    "<li>Total intl charge: double</li>\n",
    "<li>Customer service calls: integer</li>\n",
    "<li>Churn: string</li>\n",
    "</ul>\n",
    "\n",
    "The \"churn-bigml-20\" dataset contains 667 rows (customers) and 20 columns (features).\n",
    "\n",
    "The \"Churn\" column is the target to predict.\n",
    "\n",
    "\n",
    "---------"
   ]
  },
  {
   "cell_type": "code",
   "execution_count": 1,
   "metadata": {},
   "outputs": [],
   "source": [
    "import pandas as pd\n",
    "import numpy as np"
   ]
  },
  {
   "cell_type": "code",
   "execution_count": 2,
   "metadata": {},
   "outputs": [],
   "source": [
    "import seaborn as sns\n",
    "import matplotlib.pyplot as plt\n",
    "%matplotlib inline  "
   ]
  },
  {
   "cell_type": "code",
   "execution_count": 3,
   "metadata": {},
   "outputs": [],
   "source": [
    "import time"
   ]
  },
  {
   "cell_type": "code",
   "execution_count": 4,
   "metadata": {},
   "outputs": [],
   "source": [
    "from sklearn.utils import resample\n",
    "from sklearn.ensemble import ExtraTreesClassifier\n",
    "from sklearn.model_selection import train_test_split"
   ]
  },
  {
   "cell_type": "code",
   "execution_count": 5,
   "metadata": {},
   "outputs": [
    {
     "name": "stdout",
     "output_type": "stream",
     "text": [
      "Author: Daniel Rocha\n",
      "\n",
      "matplotlib: 3.4.3\n",
      "numpy     : 1.20.3\n",
      "seaborn   : 0.11.2\n",
      "pandas    : 1.3.4\n",
      "\n"
     ]
    }
   ],
   "source": [
    "# Versões dos pacotes usados neste jupyter notebook\n",
    "%reload_ext watermark\n",
    "%watermark -a \"Daniel Rocha\" --iversions"
   ]
  },
  {
   "cell_type": "code",
   "execution_count": 6,
   "metadata": {},
   "outputs": [],
   "source": [
    "# carrega os dados\n",
    "treino = pd.read_csv(\"dados/train.csv\")\n",
    "teste = pd.read_csv(\"dados/test.csv\")"
   ]
  },
  {
   "cell_type": "code",
   "execution_count": 7,
   "metadata": {},
   "outputs": [],
   "source": [
    "# renomeia a coluna 'Unnamed: 0'\n",
    "treino.columns = ['ID' if x=='Unnamed: 0' else x for x in treino.columns]\n",
    "teste.columns = ['ID' if x=='Unnamed: 0' else x for x in teste.columns]"
   ]
  },
  {
   "cell_type": "code",
   "execution_count": 8,
   "metadata": {},
   "outputs": [
    {
     "data": {
      "text/html": [
       "<div>\n",
       "<style scoped>\n",
       "    .dataframe tbody tr th:only-of-type {\n",
       "        vertical-align: middle;\n",
       "    }\n",
       "\n",
       "    .dataframe tbody tr th {\n",
       "        vertical-align: top;\n",
       "    }\n",
       "\n",
       "    .dataframe thead th {\n",
       "        text-align: right;\n",
       "    }\n",
       "</style>\n",
       "<table border=\"1\" class=\"dataframe\">\n",
       "  <thead>\n",
       "    <tr style=\"text-align: right;\">\n",
       "      <th></th>\n",
       "      <th>ID</th>\n",
       "      <th>state</th>\n",
       "      <th>account_length</th>\n",
       "      <th>area_code</th>\n",
       "      <th>international_plan</th>\n",
       "      <th>voice_mail_plan</th>\n",
       "      <th>number_vmail_messages</th>\n",
       "      <th>total_day_minutes</th>\n",
       "      <th>total_day_calls</th>\n",
       "      <th>total_day_charge</th>\n",
       "      <th>...</th>\n",
       "      <th>total_eve_calls</th>\n",
       "      <th>total_eve_charge</th>\n",
       "      <th>total_night_minutes</th>\n",
       "      <th>total_night_calls</th>\n",
       "      <th>total_night_charge</th>\n",
       "      <th>total_intl_minutes</th>\n",
       "      <th>total_intl_calls</th>\n",
       "      <th>total_intl_charge</th>\n",
       "      <th>number_customer_service_calls</th>\n",
       "      <th>churn</th>\n",
       "    </tr>\n",
       "  </thead>\n",
       "  <tbody>\n",
       "    <tr>\n",
       "      <th>0</th>\n",
       "      <td>1</td>\n",
       "      <td>KS</td>\n",
       "      <td>128</td>\n",
       "      <td>area_code_415</td>\n",
       "      <td>no</td>\n",
       "      <td>yes</td>\n",
       "      <td>25</td>\n",
       "      <td>265.1</td>\n",
       "      <td>110</td>\n",
       "      <td>45.07</td>\n",
       "      <td>...</td>\n",
       "      <td>99</td>\n",
       "      <td>16.78</td>\n",
       "      <td>244.7</td>\n",
       "      <td>91</td>\n",
       "      <td>11.01</td>\n",
       "      <td>10.0</td>\n",
       "      <td>3</td>\n",
       "      <td>2.70</td>\n",
       "      <td>1</td>\n",
       "      <td>no</td>\n",
       "    </tr>\n",
       "    <tr>\n",
       "      <th>1</th>\n",
       "      <td>2</td>\n",
       "      <td>OH</td>\n",
       "      <td>107</td>\n",
       "      <td>area_code_415</td>\n",
       "      <td>no</td>\n",
       "      <td>yes</td>\n",
       "      <td>26</td>\n",
       "      <td>161.6</td>\n",
       "      <td>123</td>\n",
       "      <td>27.47</td>\n",
       "      <td>...</td>\n",
       "      <td>103</td>\n",
       "      <td>16.62</td>\n",
       "      <td>254.4</td>\n",
       "      <td>103</td>\n",
       "      <td>11.45</td>\n",
       "      <td>13.7</td>\n",
       "      <td>3</td>\n",
       "      <td>3.70</td>\n",
       "      <td>1</td>\n",
       "      <td>no</td>\n",
       "    </tr>\n",
       "    <tr>\n",
       "      <th>2</th>\n",
       "      <td>3</td>\n",
       "      <td>NJ</td>\n",
       "      <td>137</td>\n",
       "      <td>area_code_415</td>\n",
       "      <td>no</td>\n",
       "      <td>no</td>\n",
       "      <td>0</td>\n",
       "      <td>243.4</td>\n",
       "      <td>114</td>\n",
       "      <td>41.38</td>\n",
       "      <td>...</td>\n",
       "      <td>110</td>\n",
       "      <td>10.30</td>\n",
       "      <td>162.6</td>\n",
       "      <td>104</td>\n",
       "      <td>7.32</td>\n",
       "      <td>12.2</td>\n",
       "      <td>5</td>\n",
       "      <td>3.29</td>\n",
       "      <td>0</td>\n",
       "      <td>no</td>\n",
       "    </tr>\n",
       "    <tr>\n",
       "      <th>3</th>\n",
       "      <td>4</td>\n",
       "      <td>OH</td>\n",
       "      <td>84</td>\n",
       "      <td>area_code_408</td>\n",
       "      <td>yes</td>\n",
       "      <td>no</td>\n",
       "      <td>0</td>\n",
       "      <td>299.4</td>\n",
       "      <td>71</td>\n",
       "      <td>50.90</td>\n",
       "      <td>...</td>\n",
       "      <td>88</td>\n",
       "      <td>5.26</td>\n",
       "      <td>196.9</td>\n",
       "      <td>89</td>\n",
       "      <td>8.86</td>\n",
       "      <td>6.6</td>\n",
       "      <td>7</td>\n",
       "      <td>1.78</td>\n",
       "      <td>2</td>\n",
       "      <td>no</td>\n",
       "    </tr>\n",
       "    <tr>\n",
       "      <th>4</th>\n",
       "      <td>5</td>\n",
       "      <td>OK</td>\n",
       "      <td>75</td>\n",
       "      <td>area_code_415</td>\n",
       "      <td>yes</td>\n",
       "      <td>no</td>\n",
       "      <td>0</td>\n",
       "      <td>166.7</td>\n",
       "      <td>113</td>\n",
       "      <td>28.34</td>\n",
       "      <td>...</td>\n",
       "      <td>122</td>\n",
       "      <td>12.61</td>\n",
       "      <td>186.9</td>\n",
       "      <td>121</td>\n",
       "      <td>8.41</td>\n",
       "      <td>10.1</td>\n",
       "      <td>3</td>\n",
       "      <td>2.73</td>\n",
       "      <td>3</td>\n",
       "      <td>no</td>\n",
       "    </tr>\n",
       "  </tbody>\n",
       "</table>\n",
       "<p>5 rows × 21 columns</p>\n",
       "</div>"
      ],
      "text/plain": [
       "   ID state  account_length      area_code international_plan voice_mail_plan  \\\n",
       "0   1    KS             128  area_code_415                 no             yes   \n",
       "1   2    OH             107  area_code_415                 no             yes   \n",
       "2   3    NJ             137  area_code_415                 no              no   \n",
       "3   4    OH              84  area_code_408                yes              no   \n",
       "4   5    OK              75  area_code_415                yes              no   \n",
       "\n",
       "   number_vmail_messages  total_day_minutes  total_day_calls  \\\n",
       "0                     25              265.1              110   \n",
       "1                     26              161.6              123   \n",
       "2                      0              243.4              114   \n",
       "3                      0              299.4               71   \n",
       "4                      0              166.7              113   \n",
       "\n",
       "   total_day_charge  ...  total_eve_calls  total_eve_charge  \\\n",
       "0             45.07  ...               99             16.78   \n",
       "1             27.47  ...              103             16.62   \n",
       "2             41.38  ...              110             10.30   \n",
       "3             50.90  ...               88              5.26   \n",
       "4             28.34  ...              122             12.61   \n",
       "\n",
       "   total_night_minutes  total_night_calls  total_night_charge  \\\n",
       "0                244.7                 91               11.01   \n",
       "1                254.4                103               11.45   \n",
       "2                162.6                104                7.32   \n",
       "3                196.9                 89                8.86   \n",
       "4                186.9                121                8.41   \n",
       "\n",
       "   total_intl_minutes  total_intl_calls  total_intl_charge  \\\n",
       "0                10.0                 3               2.70   \n",
       "1                13.7                 3               3.70   \n",
       "2                12.2                 5               3.29   \n",
       "3                 6.6                 7               1.78   \n",
       "4                10.1                 3               2.73   \n",
       "\n",
       "   number_customer_service_calls  churn  \n",
       "0                              1     no  \n",
       "1                              1     no  \n",
       "2                              0     no  \n",
       "3                              2     no  \n",
       "4                              3     no  \n",
       "\n",
       "[5 rows x 21 columns]"
      ]
     },
     "execution_count": 8,
     "metadata": {},
     "output_type": "execute_result"
    }
   ],
   "source": [
    "treino.head().round(2)"
   ]
  },
  {
   "cell_type": "code",
   "execution_count": 9,
   "metadata": {},
   "outputs": [
    {
     "data": {
      "text/html": [
       "<div>\n",
       "<style scoped>\n",
       "    .dataframe tbody tr th:only-of-type {\n",
       "        vertical-align: middle;\n",
       "    }\n",
       "\n",
       "    .dataframe tbody tr th {\n",
       "        vertical-align: top;\n",
       "    }\n",
       "\n",
       "    .dataframe thead th {\n",
       "        text-align: right;\n",
       "    }\n",
       "</style>\n",
       "<table border=\"1\" class=\"dataframe\">\n",
       "  <thead>\n",
       "    <tr style=\"text-align: right;\">\n",
       "      <th></th>\n",
       "      <th>ID</th>\n",
       "      <th>state</th>\n",
       "      <th>account_length</th>\n",
       "      <th>area_code</th>\n",
       "      <th>international_plan</th>\n",
       "      <th>voice_mail_plan</th>\n",
       "      <th>number_vmail_messages</th>\n",
       "      <th>total_day_minutes</th>\n",
       "      <th>total_day_calls</th>\n",
       "      <th>total_day_charge</th>\n",
       "      <th>...</th>\n",
       "      <th>total_eve_calls</th>\n",
       "      <th>total_eve_charge</th>\n",
       "      <th>total_night_minutes</th>\n",
       "      <th>total_night_calls</th>\n",
       "      <th>total_night_charge</th>\n",
       "      <th>total_intl_minutes</th>\n",
       "      <th>total_intl_calls</th>\n",
       "      <th>total_intl_charge</th>\n",
       "      <th>number_customer_service_calls</th>\n",
       "      <th>churn</th>\n",
       "    </tr>\n",
       "  </thead>\n",
       "  <tbody>\n",
       "    <tr>\n",
       "      <th>0</th>\n",
       "      <td>1</td>\n",
       "      <td>HI</td>\n",
       "      <td>101</td>\n",
       "      <td>area_code_510</td>\n",
       "      <td>no</td>\n",
       "      <td>no</td>\n",
       "      <td>0</td>\n",
       "      <td>70.9</td>\n",
       "      <td>123</td>\n",
       "      <td>12.05</td>\n",
       "      <td>...</td>\n",
       "      <td>73</td>\n",
       "      <td>18.01</td>\n",
       "      <td>236.0</td>\n",
       "      <td>73</td>\n",
       "      <td>10.62</td>\n",
       "      <td>10.6</td>\n",
       "      <td>3</td>\n",
       "      <td>2.86</td>\n",
       "      <td>3</td>\n",
       "      <td>no</td>\n",
       "    </tr>\n",
       "    <tr>\n",
       "      <th>1</th>\n",
       "      <td>2</td>\n",
       "      <td>MT</td>\n",
       "      <td>137</td>\n",
       "      <td>area_code_510</td>\n",
       "      <td>no</td>\n",
       "      <td>no</td>\n",
       "      <td>0</td>\n",
       "      <td>223.6</td>\n",
       "      <td>86</td>\n",
       "      <td>38.01</td>\n",
       "      <td>...</td>\n",
       "      <td>139</td>\n",
       "      <td>20.81</td>\n",
       "      <td>94.2</td>\n",
       "      <td>81</td>\n",
       "      <td>4.24</td>\n",
       "      <td>9.5</td>\n",
       "      <td>7</td>\n",
       "      <td>2.57</td>\n",
       "      <td>0</td>\n",
       "      <td>no</td>\n",
       "    </tr>\n",
       "    <tr>\n",
       "      <th>2</th>\n",
       "      <td>3</td>\n",
       "      <td>OH</td>\n",
       "      <td>103</td>\n",
       "      <td>area_code_408</td>\n",
       "      <td>no</td>\n",
       "      <td>yes</td>\n",
       "      <td>29</td>\n",
       "      <td>294.7</td>\n",
       "      <td>95</td>\n",
       "      <td>50.10</td>\n",
       "      <td>...</td>\n",
       "      <td>105</td>\n",
       "      <td>20.17</td>\n",
       "      <td>300.3</td>\n",
       "      <td>127</td>\n",
       "      <td>13.51</td>\n",
       "      <td>13.7</td>\n",
       "      <td>6</td>\n",
       "      <td>3.70</td>\n",
       "      <td>1</td>\n",
       "      <td>no</td>\n",
       "    </tr>\n",
       "    <tr>\n",
       "      <th>3</th>\n",
       "      <td>4</td>\n",
       "      <td>NM</td>\n",
       "      <td>99</td>\n",
       "      <td>area_code_415</td>\n",
       "      <td>no</td>\n",
       "      <td>no</td>\n",
       "      <td>0</td>\n",
       "      <td>216.8</td>\n",
       "      <td>123</td>\n",
       "      <td>36.86</td>\n",
       "      <td>...</td>\n",
       "      <td>88</td>\n",
       "      <td>10.74</td>\n",
       "      <td>220.6</td>\n",
       "      <td>82</td>\n",
       "      <td>9.93</td>\n",
       "      <td>15.7</td>\n",
       "      <td>2</td>\n",
       "      <td>4.24</td>\n",
       "      <td>1</td>\n",
       "      <td>no</td>\n",
       "    </tr>\n",
       "    <tr>\n",
       "      <th>4</th>\n",
       "      <td>5</td>\n",
       "      <td>SC</td>\n",
       "      <td>108</td>\n",
       "      <td>area_code_415</td>\n",
       "      <td>no</td>\n",
       "      <td>no</td>\n",
       "      <td>0</td>\n",
       "      <td>197.4</td>\n",
       "      <td>78</td>\n",
       "      <td>33.56</td>\n",
       "      <td>...</td>\n",
       "      <td>101</td>\n",
       "      <td>10.54</td>\n",
       "      <td>204.5</td>\n",
       "      <td>107</td>\n",
       "      <td>9.20</td>\n",
       "      <td>7.7</td>\n",
       "      <td>4</td>\n",
       "      <td>2.08</td>\n",
       "      <td>2</td>\n",
       "      <td>no</td>\n",
       "    </tr>\n",
       "  </tbody>\n",
       "</table>\n",
       "<p>5 rows × 21 columns</p>\n",
       "</div>"
      ],
      "text/plain": [
       "   ID state  account_length      area_code international_plan voice_mail_plan  \\\n",
       "0   1    HI             101  area_code_510                 no              no   \n",
       "1   2    MT             137  area_code_510                 no              no   \n",
       "2   3    OH             103  area_code_408                 no             yes   \n",
       "3   4    NM              99  area_code_415                 no              no   \n",
       "4   5    SC             108  area_code_415                 no              no   \n",
       "\n",
       "   number_vmail_messages  total_day_minutes  total_day_calls  \\\n",
       "0                      0               70.9              123   \n",
       "1                      0              223.6               86   \n",
       "2                     29              294.7               95   \n",
       "3                      0              216.8              123   \n",
       "4                      0              197.4               78   \n",
       "\n",
       "   total_day_charge  ...  total_eve_calls  total_eve_charge  \\\n",
       "0             12.05  ...               73             18.01   \n",
       "1             38.01  ...              139             20.81   \n",
       "2             50.10  ...              105             20.17   \n",
       "3             36.86  ...               88             10.74   \n",
       "4             33.56  ...              101             10.54   \n",
       "\n",
       "   total_night_minutes  total_night_calls  total_night_charge  \\\n",
       "0                236.0                 73               10.62   \n",
       "1                 94.2                 81                4.24   \n",
       "2                300.3                127               13.51   \n",
       "3                220.6                 82                9.93   \n",
       "4                204.5                107                9.20   \n",
       "\n",
       "   total_intl_minutes  total_intl_calls  total_intl_charge  \\\n",
       "0                10.6                 3               2.86   \n",
       "1                 9.5                 7               2.57   \n",
       "2                13.7                 6               3.70   \n",
       "3                15.7                 2               4.24   \n",
       "4                 7.7                 4               2.08   \n",
       "\n",
       "   number_customer_service_calls  churn  \n",
       "0                              3     no  \n",
       "1                              0     no  \n",
       "2                              1     no  \n",
       "3                              1     no  \n",
       "4                              2     no  \n",
       "\n",
       "[5 rows x 21 columns]"
      ]
     },
     "execution_count": 9,
     "metadata": {},
     "output_type": "execute_result"
    }
   ],
   "source": [
    "teste.head().round(2)"
   ]
  },
  {
   "cell_type": "code",
   "execution_count": 12,
   "metadata": {},
   "outputs": [
    {
     "name": "stdout",
     "output_type": "stream",
     "text": [
      "teste - rows x columns:  (1667, 21)\n",
      "treino - rows x columns:  (3333, 21)\n"
     ]
    }
   ],
   "source": [
    "print('teste - rows x columns: ',teste.shape)\n",
    "print('treino - rows x columns: ',treino.shape)"
   ]
  },
  {
   "cell_type": "code",
   "execution_count": 13,
   "metadata": {},
   "outputs": [
    {
     "name": "stdout",
     "output_type": "stream",
     "text": [
      "Dados Shape:  (5000, 20)\n"
     ]
    }
   ],
   "source": [
    "# unindo os datasets \n",
    "# aproveitando e removendo a coluna ID\n",
    "dados = pd.concat([treino, teste],sort=False).drop('ID', axis=1) \n",
    "\n",
    "print('Dados Shape: ',dados.shape)"
   ]
  },
  {
   "cell_type": "code",
   "execution_count": 14,
   "metadata": {},
   "outputs": [
    {
     "name": "stdout",
     "output_type": "stream",
     "text": [
      "<class 'pandas.core.frame.DataFrame'>\n",
      "Int64Index: 5000 entries, 0 to 1666\n",
      "Data columns (total 20 columns):\n",
      " #   Column                         Non-Null Count  Dtype  \n",
      "---  ------                         --------------  -----  \n",
      " 0   state                          5000 non-null   object \n",
      " 1   account_length                 5000 non-null   int64  \n",
      " 2   area_code                      5000 non-null   object \n",
      " 3   international_plan             5000 non-null   object \n",
      " 4   voice_mail_plan                5000 non-null   object \n",
      " 5   number_vmail_messages          5000 non-null   int64  \n",
      " 6   total_day_minutes              5000 non-null   float64\n",
      " 7   total_day_calls                5000 non-null   int64  \n",
      " 8   total_day_charge               5000 non-null   float64\n",
      " 9   total_eve_minutes              5000 non-null   float64\n",
      " 10  total_eve_calls                5000 non-null   int64  \n",
      " 11  total_eve_charge               5000 non-null   float64\n",
      " 12  total_night_minutes            5000 non-null   float64\n",
      " 13  total_night_calls              5000 non-null   int64  \n",
      " 14  total_night_charge             5000 non-null   float64\n",
      " 15  total_intl_minutes             5000 non-null   float64\n",
      " 16  total_intl_calls               5000 non-null   int64  \n",
      " 17  total_intl_charge              5000 non-null   float64\n",
      " 18  number_customer_service_calls  5000 non-null   int64  \n",
      " 19  churn                          5000 non-null   object \n",
      "dtypes: float64(8), int64(7), object(5)\n",
      "memory usage: 820.3+ KB\n"
     ]
    }
   ],
   "source": [
    "dados.info()"
   ]
  },
  {
   "cell_type": "code",
   "execution_count": 15,
   "metadata": {},
   "outputs": [
    {
     "data": {
      "text/html": [
       "<div>\n",
       "<style scoped>\n",
       "    .dataframe tbody tr th:only-of-type {\n",
       "        vertical-align: middle;\n",
       "    }\n",
       "\n",
       "    .dataframe tbody tr th {\n",
       "        vertical-align: top;\n",
       "    }\n",
       "\n",
       "    .dataframe thead th {\n",
       "        text-align: right;\n",
       "    }\n",
       "</style>\n",
       "<table border=\"1\" class=\"dataframe\">\n",
       "  <thead>\n",
       "    <tr style=\"text-align: right;\">\n",
       "      <th></th>\n",
       "      <th>count</th>\n",
       "      <th>mean</th>\n",
       "      <th>std</th>\n",
       "      <th>min</th>\n",
       "      <th>25%</th>\n",
       "      <th>50%</th>\n",
       "      <th>75%</th>\n",
       "      <th>max</th>\n",
       "    </tr>\n",
       "  </thead>\n",
       "  <tbody>\n",
       "    <tr>\n",
       "      <th>account_length</th>\n",
       "      <td>5000.0</td>\n",
       "      <td>100.26</td>\n",
       "      <td>39.69</td>\n",
       "      <td>1.0</td>\n",
       "      <td>73.00</td>\n",
       "      <td>100.00</td>\n",
       "      <td>127.00</td>\n",
       "      <td>243.00</td>\n",
       "    </tr>\n",
       "    <tr>\n",
       "      <th>number_vmail_messages</th>\n",
       "      <td>5000.0</td>\n",
       "      <td>7.76</td>\n",
       "      <td>13.55</td>\n",
       "      <td>0.0</td>\n",
       "      <td>0.00</td>\n",
       "      <td>0.00</td>\n",
       "      <td>17.00</td>\n",
       "      <td>52.00</td>\n",
       "    </tr>\n",
       "    <tr>\n",
       "      <th>total_day_minutes</th>\n",
       "      <td>5000.0</td>\n",
       "      <td>180.29</td>\n",
       "      <td>53.89</td>\n",
       "      <td>0.0</td>\n",
       "      <td>143.70</td>\n",
       "      <td>180.10</td>\n",
       "      <td>216.20</td>\n",
       "      <td>351.50</td>\n",
       "    </tr>\n",
       "    <tr>\n",
       "      <th>total_day_calls</th>\n",
       "      <td>5000.0</td>\n",
       "      <td>100.03</td>\n",
       "      <td>19.83</td>\n",
       "      <td>0.0</td>\n",
       "      <td>87.00</td>\n",
       "      <td>100.00</td>\n",
       "      <td>113.00</td>\n",
       "      <td>165.00</td>\n",
       "    </tr>\n",
       "    <tr>\n",
       "      <th>total_day_charge</th>\n",
       "      <td>5000.0</td>\n",
       "      <td>30.65</td>\n",
       "      <td>9.16</td>\n",
       "      <td>0.0</td>\n",
       "      <td>24.43</td>\n",
       "      <td>30.62</td>\n",
       "      <td>36.75</td>\n",
       "      <td>59.76</td>\n",
       "    </tr>\n",
       "    <tr>\n",
       "      <th>total_eve_minutes</th>\n",
       "      <td>5000.0</td>\n",
       "      <td>200.64</td>\n",
       "      <td>50.55</td>\n",
       "      <td>0.0</td>\n",
       "      <td>166.38</td>\n",
       "      <td>201.00</td>\n",
       "      <td>234.10</td>\n",
       "      <td>363.70</td>\n",
       "    </tr>\n",
       "    <tr>\n",
       "      <th>total_eve_calls</th>\n",
       "      <td>5000.0</td>\n",
       "      <td>100.19</td>\n",
       "      <td>19.83</td>\n",
       "      <td>0.0</td>\n",
       "      <td>87.00</td>\n",
       "      <td>100.00</td>\n",
       "      <td>114.00</td>\n",
       "      <td>170.00</td>\n",
       "    </tr>\n",
       "    <tr>\n",
       "      <th>total_eve_charge</th>\n",
       "      <td>5000.0</td>\n",
       "      <td>17.05</td>\n",
       "      <td>4.30</td>\n",
       "      <td>0.0</td>\n",
       "      <td>14.14</td>\n",
       "      <td>17.09</td>\n",
       "      <td>19.90</td>\n",
       "      <td>30.91</td>\n",
       "    </tr>\n",
       "    <tr>\n",
       "      <th>total_night_minutes</th>\n",
       "      <td>5000.0</td>\n",
       "      <td>200.39</td>\n",
       "      <td>50.53</td>\n",
       "      <td>0.0</td>\n",
       "      <td>166.90</td>\n",
       "      <td>200.40</td>\n",
       "      <td>234.70</td>\n",
       "      <td>395.00</td>\n",
       "    </tr>\n",
       "    <tr>\n",
       "      <th>total_night_calls</th>\n",
       "      <td>5000.0</td>\n",
       "      <td>99.92</td>\n",
       "      <td>19.96</td>\n",
       "      <td>0.0</td>\n",
       "      <td>87.00</td>\n",
       "      <td>100.00</td>\n",
       "      <td>113.00</td>\n",
       "      <td>175.00</td>\n",
       "    </tr>\n",
       "    <tr>\n",
       "      <th>total_night_charge</th>\n",
       "      <td>5000.0</td>\n",
       "      <td>9.02</td>\n",
       "      <td>2.27</td>\n",
       "      <td>0.0</td>\n",
       "      <td>7.51</td>\n",
       "      <td>9.02</td>\n",
       "      <td>10.56</td>\n",
       "      <td>17.77</td>\n",
       "    </tr>\n",
       "    <tr>\n",
       "      <th>total_intl_minutes</th>\n",
       "      <td>5000.0</td>\n",
       "      <td>10.26</td>\n",
       "      <td>2.76</td>\n",
       "      <td>0.0</td>\n",
       "      <td>8.50</td>\n",
       "      <td>10.30</td>\n",
       "      <td>12.00</td>\n",
       "      <td>20.00</td>\n",
       "    </tr>\n",
       "    <tr>\n",
       "      <th>total_intl_calls</th>\n",
       "      <td>5000.0</td>\n",
       "      <td>4.44</td>\n",
       "      <td>2.46</td>\n",
       "      <td>0.0</td>\n",
       "      <td>3.00</td>\n",
       "      <td>4.00</td>\n",
       "      <td>6.00</td>\n",
       "      <td>20.00</td>\n",
       "    </tr>\n",
       "    <tr>\n",
       "      <th>total_intl_charge</th>\n",
       "      <td>5000.0</td>\n",
       "      <td>2.77</td>\n",
       "      <td>0.75</td>\n",
       "      <td>0.0</td>\n",
       "      <td>2.30</td>\n",
       "      <td>2.78</td>\n",
       "      <td>3.24</td>\n",
       "      <td>5.40</td>\n",
       "    </tr>\n",
       "    <tr>\n",
       "      <th>number_customer_service_calls</th>\n",
       "      <td>5000.0</td>\n",
       "      <td>1.57</td>\n",
       "      <td>1.31</td>\n",
       "      <td>0.0</td>\n",
       "      <td>1.00</td>\n",
       "      <td>1.00</td>\n",
       "      <td>2.00</td>\n",
       "      <td>9.00</td>\n",
       "    </tr>\n",
       "  </tbody>\n",
       "</table>\n",
       "</div>"
      ],
      "text/plain": [
       "                                count    mean    std  min     25%     50%  \\\n",
       "account_length                 5000.0  100.26  39.69  1.0   73.00  100.00   \n",
       "number_vmail_messages          5000.0    7.76  13.55  0.0    0.00    0.00   \n",
       "total_day_minutes              5000.0  180.29  53.89  0.0  143.70  180.10   \n",
       "total_day_calls                5000.0  100.03  19.83  0.0   87.00  100.00   \n",
       "total_day_charge               5000.0   30.65   9.16  0.0   24.43   30.62   \n",
       "total_eve_minutes              5000.0  200.64  50.55  0.0  166.38  201.00   \n",
       "total_eve_calls                5000.0  100.19  19.83  0.0   87.00  100.00   \n",
       "total_eve_charge               5000.0   17.05   4.30  0.0   14.14   17.09   \n",
       "total_night_minutes            5000.0  200.39  50.53  0.0  166.90  200.40   \n",
       "total_night_calls              5000.0   99.92  19.96  0.0   87.00  100.00   \n",
       "total_night_charge             5000.0    9.02   2.27  0.0    7.51    9.02   \n",
       "total_intl_minutes             5000.0   10.26   2.76  0.0    8.50   10.30   \n",
       "total_intl_calls               5000.0    4.44   2.46  0.0    3.00    4.00   \n",
       "total_intl_charge              5000.0    2.77   0.75  0.0    2.30    2.78   \n",
       "number_customer_service_calls  5000.0    1.57   1.31  0.0    1.00    1.00   \n",
       "\n",
       "                                  75%     max  \n",
       "account_length                 127.00  243.00  \n",
       "number_vmail_messages           17.00   52.00  \n",
       "total_day_minutes              216.20  351.50  \n",
       "total_day_calls                113.00  165.00  \n",
       "total_day_charge                36.75   59.76  \n",
       "total_eve_minutes              234.10  363.70  \n",
       "total_eve_calls                114.00  170.00  \n",
       "total_eve_charge                19.90   30.91  \n",
       "total_night_minutes            234.70  395.00  \n",
       "total_night_calls              113.00  175.00  \n",
       "total_night_charge              10.56   17.77  \n",
       "total_intl_minutes              12.00   20.00  \n",
       "total_intl_calls                 6.00   20.00  \n",
       "total_intl_charge                3.24    5.40  \n",
       "number_customer_service_calls    2.00    9.00  "
      ]
     },
     "execution_count": 15,
     "metadata": {},
     "output_type": "execute_result"
    }
   ],
   "source": [
    "dados.describe().round(2).T"
   ]
  },
  {
   "cell_type": "markdown",
   "metadata": {},
   "source": [
    "------\n",
    "### Label Encoding "
   ]
  },
  {
   "cell_type": "markdown",
   "metadata": {},
   "source": [
    "https://towardsdatascience.com/categorical-encoding-using-label-encoding-and-one-hot-encoder-911ef77fb5bd"
   ]
  },
  {
   "cell_type": "code",
   "execution_count": 18,
   "metadata": {},
   "outputs": [
    {
     "data": {
      "text/html": [
       "<div>\n",
       "<style scoped>\n",
       "    .dataframe tbody tr th:only-of-type {\n",
       "        vertical-align: middle;\n",
       "    }\n",
       "\n",
       "    .dataframe tbody tr th {\n",
       "        vertical-align: top;\n",
       "    }\n",
       "\n",
       "    .dataframe thead th {\n",
       "        text-align: right;\n",
       "    }\n",
       "</style>\n",
       "<table border=\"1\" class=\"dataframe\">\n",
       "  <thead>\n",
       "    <tr style=\"text-align: right;\">\n",
       "      <th></th>\n",
       "      <th>state</th>\n",
       "      <th>account_length</th>\n",
       "      <th>area_code</th>\n",
       "      <th>international_plan</th>\n",
       "      <th>voice_mail_plan</th>\n",
       "      <th>number_vmail_messages</th>\n",
       "      <th>total_day_minutes</th>\n",
       "      <th>total_day_calls</th>\n",
       "      <th>total_day_charge</th>\n",
       "      <th>total_eve_minutes</th>\n",
       "      <th>total_eve_calls</th>\n",
       "      <th>total_eve_charge</th>\n",
       "      <th>total_night_minutes</th>\n",
       "      <th>total_night_calls</th>\n",
       "      <th>total_night_charge</th>\n",
       "      <th>total_intl_minutes</th>\n",
       "      <th>total_intl_calls</th>\n",
       "      <th>total_intl_charge</th>\n",
       "      <th>number_customer_service_calls</th>\n",
       "      <th>churn</th>\n",
       "    </tr>\n",
       "  </thead>\n",
       "  <tbody>\n",
       "    <tr>\n",
       "      <th>0</th>\n",
       "      <td>KS</td>\n",
       "      <td>128</td>\n",
       "      <td>area_code_415</td>\n",
       "      <td>no</td>\n",
       "      <td>yes</td>\n",
       "      <td>25</td>\n",
       "      <td>265.1</td>\n",
       "      <td>110</td>\n",
       "      <td>45.07</td>\n",
       "      <td>197.4</td>\n",
       "      <td>99</td>\n",
       "      <td>16.78</td>\n",
       "      <td>244.7</td>\n",
       "      <td>91</td>\n",
       "      <td>11.01</td>\n",
       "      <td>10.0</td>\n",
       "      <td>3</td>\n",
       "      <td>2.70</td>\n",
       "      <td>1</td>\n",
       "      <td>no</td>\n",
       "    </tr>\n",
       "    <tr>\n",
       "      <th>1</th>\n",
       "      <td>OH</td>\n",
       "      <td>107</td>\n",
       "      <td>area_code_415</td>\n",
       "      <td>no</td>\n",
       "      <td>yes</td>\n",
       "      <td>26</td>\n",
       "      <td>161.6</td>\n",
       "      <td>123</td>\n",
       "      <td>27.47</td>\n",
       "      <td>195.5</td>\n",
       "      <td>103</td>\n",
       "      <td>16.62</td>\n",
       "      <td>254.4</td>\n",
       "      <td>103</td>\n",
       "      <td>11.45</td>\n",
       "      <td>13.7</td>\n",
       "      <td>3</td>\n",
       "      <td>3.70</td>\n",
       "      <td>1</td>\n",
       "      <td>no</td>\n",
       "    </tr>\n",
       "    <tr>\n",
       "      <th>2</th>\n",
       "      <td>NJ</td>\n",
       "      <td>137</td>\n",
       "      <td>area_code_415</td>\n",
       "      <td>no</td>\n",
       "      <td>no</td>\n",
       "      <td>0</td>\n",
       "      <td>243.4</td>\n",
       "      <td>114</td>\n",
       "      <td>41.38</td>\n",
       "      <td>121.2</td>\n",
       "      <td>110</td>\n",
       "      <td>10.30</td>\n",
       "      <td>162.6</td>\n",
       "      <td>104</td>\n",
       "      <td>7.32</td>\n",
       "      <td>12.2</td>\n",
       "      <td>5</td>\n",
       "      <td>3.29</td>\n",
       "      <td>0</td>\n",
       "      <td>no</td>\n",
       "    </tr>\n",
       "  </tbody>\n",
       "</table>\n",
       "</div>"
      ],
      "text/plain": [
       "  state  account_length      area_code international_plan voice_mail_plan  \\\n",
       "0    KS             128  area_code_415                 no             yes   \n",
       "1    OH             107  area_code_415                 no             yes   \n",
       "2    NJ             137  area_code_415                 no              no   \n",
       "\n",
       "   number_vmail_messages  total_day_minutes  total_day_calls  \\\n",
       "0                     25              265.1              110   \n",
       "1                     26              161.6              123   \n",
       "2                      0              243.4              114   \n",
       "\n",
       "   total_day_charge  total_eve_minutes  total_eve_calls  total_eve_charge  \\\n",
       "0             45.07              197.4               99             16.78   \n",
       "1             27.47              195.5              103             16.62   \n",
       "2             41.38              121.2              110             10.30   \n",
       "\n",
       "   total_night_minutes  total_night_calls  total_night_charge  \\\n",
       "0                244.7                 91               11.01   \n",
       "1                254.4                103               11.45   \n",
       "2                162.6                104                7.32   \n",
       "\n",
       "   total_intl_minutes  total_intl_calls  total_intl_charge  \\\n",
       "0                10.0                 3               2.70   \n",
       "1                13.7                 3               3.70   \n",
       "2                12.2                 5               3.29   \n",
       "\n",
       "   number_customer_service_calls churn  \n",
       "0                              1    no  \n",
       "1                              1    no  \n",
       "2                              0    no  "
      ]
     },
     "execution_count": 18,
     "metadata": {},
     "output_type": "execute_result"
    }
   ],
   "source": [
    "dados.head(3)"
   ]
  },
  {
   "cell_type": "code",
   "execution_count": 19,
   "metadata": {},
   "outputs": [],
   "source": [
    "# vamos lidar primeiro com as variaveis do tipo yes no\n",
    "dic_yes_no = {'yes':1, 'no':0}\n",
    "dados['churn'] = dados['churn'].map(dic_yes_no)\n",
    "dados['international_plan'] = dados['international_plan'].map(dic_yes_no)\n",
    "dados['voice_mail_plan'] = dados['voice_mail_plan'].map(dic_yes_no)"
   ]
  },
  {
   "cell_type": "code",
   "execution_count": 20,
   "metadata": {},
   "outputs": [],
   "source": [
    "# convertendo object to category\n",
    "for col in ['state', 'area_code']:\n",
    "    dados[col] = dados[col].astype('category')"
   ]
  },
  {
   "cell_type": "code",
   "execution_count": 22,
   "metadata": {},
   "outputs": [
    {
     "data": {
      "text/plain": [
       "state        category\n",
       "area_code    category\n",
       "dtype: object"
      ]
     },
     "execution_count": 22,
     "metadata": {},
     "output_type": "execute_result"
    }
   ],
   "source": [
    "dados[['state', 'area_code']].dtypes"
   ]
  },
  {
   "cell_type": "code",
   "execution_count": 23,
   "metadata": {},
   "outputs": [],
   "source": [
    "# geralmente eu uso o labelencoder scikit - so para variar\n",
    "# https://www.mygreatlearning.com/blog/label-encoding-in-python/\n",
    "dados['state_cat'] = dados['state'].cat.codes\n",
    "dados['area_code_cat'] = dados['area_code'].cat.codes"
   ]
  },
  {
   "cell_type": "code",
   "execution_count": 24,
   "metadata": {},
   "outputs": [],
   "source": [
    "# removendo as colunas que foram convertidas\n",
    "dados = dados.drop(['state', 'area_code'], axis=1)"
   ]
  },
  {
   "cell_type": "code",
   "execution_count": 25,
   "metadata": {},
   "outputs": [
    {
     "name": "stdout",
     "output_type": "stream",
     "text": [
      "<class 'pandas.core.frame.DataFrame'>\n",
      "Int64Index: 5000 entries, 0 to 1666\n",
      "Data columns (total 20 columns):\n",
      " #   Column                         Non-Null Count  Dtype  \n",
      "---  ------                         --------------  -----  \n",
      " 0   account_length                 5000 non-null   int64  \n",
      " 1   international_plan             5000 non-null   int64  \n",
      " 2   voice_mail_plan                5000 non-null   int64  \n",
      " 3   number_vmail_messages          5000 non-null   int64  \n",
      " 4   total_day_minutes              5000 non-null   float64\n",
      " 5   total_day_calls                5000 non-null   int64  \n",
      " 6   total_day_charge               5000 non-null   float64\n",
      " 7   total_eve_minutes              5000 non-null   float64\n",
      " 8   total_eve_calls                5000 non-null   int64  \n",
      " 9   total_eve_charge               5000 non-null   float64\n",
      " 10  total_night_minutes            5000 non-null   float64\n",
      " 11  total_night_calls              5000 non-null   int64  \n",
      " 12  total_night_charge             5000 non-null   float64\n",
      " 13  total_intl_minutes             5000 non-null   float64\n",
      " 14  total_intl_calls               5000 non-null   int64  \n",
      " 15  total_intl_charge              5000 non-null   float64\n",
      " 16  number_customer_service_calls  5000 non-null   int64  \n",
      " 17  churn                          5000 non-null   int64  \n",
      " 18  state_cat                      5000 non-null   int8   \n",
      " 19  area_code_cat                  5000 non-null   int8   \n",
      "dtypes: float64(8), int64(10), int8(2)\n",
      "memory usage: 752.0 KB\n"
     ]
    }
   ],
   "source": [
    "dados.info()"
   ]
  },
  {
   "cell_type": "code",
   "execution_count": 26,
   "metadata": {},
   "outputs": [
    {
     "data": {
      "text/html": [
       "<div>\n",
       "<style scoped>\n",
       "    .dataframe tbody tr th:only-of-type {\n",
       "        vertical-align: middle;\n",
       "    }\n",
       "\n",
       "    .dataframe tbody tr th {\n",
       "        vertical-align: top;\n",
       "    }\n",
       "\n",
       "    .dataframe thead th {\n",
       "        text-align: right;\n",
       "    }\n",
       "</style>\n",
       "<table border=\"1\" class=\"dataframe\">\n",
       "  <thead>\n",
       "    <tr style=\"text-align: right;\">\n",
       "      <th></th>\n",
       "      <th>account_length</th>\n",
       "      <th>international_plan</th>\n",
       "      <th>voice_mail_plan</th>\n",
       "      <th>number_vmail_messages</th>\n",
       "      <th>total_day_minutes</th>\n",
       "      <th>total_day_calls</th>\n",
       "      <th>total_day_charge</th>\n",
       "      <th>total_eve_minutes</th>\n",
       "      <th>total_eve_calls</th>\n",
       "      <th>total_eve_charge</th>\n",
       "      <th>total_night_minutes</th>\n",
       "      <th>total_night_calls</th>\n",
       "      <th>total_night_charge</th>\n",
       "      <th>total_intl_minutes</th>\n",
       "      <th>total_intl_calls</th>\n",
       "      <th>total_intl_charge</th>\n",
       "      <th>number_customer_service_calls</th>\n",
       "      <th>churn</th>\n",
       "      <th>state_cat</th>\n",
       "      <th>area_code_cat</th>\n",
       "    </tr>\n",
       "  </thead>\n",
       "  <tbody>\n",
       "    <tr>\n",
       "      <th>0</th>\n",
       "      <td>128</td>\n",
       "      <td>0</td>\n",
       "      <td>1</td>\n",
       "      <td>25</td>\n",
       "      <td>265.1</td>\n",
       "      <td>110</td>\n",
       "      <td>45.07</td>\n",
       "      <td>197.4</td>\n",
       "      <td>99</td>\n",
       "      <td>16.78</td>\n",
       "      <td>244.7</td>\n",
       "      <td>91</td>\n",
       "      <td>11.01</td>\n",
       "      <td>10.0</td>\n",
       "      <td>3</td>\n",
       "      <td>2.70</td>\n",
       "      <td>1</td>\n",
       "      <td>0</td>\n",
       "      <td>16</td>\n",
       "      <td>1</td>\n",
       "    </tr>\n",
       "    <tr>\n",
       "      <th>1</th>\n",
       "      <td>107</td>\n",
       "      <td>0</td>\n",
       "      <td>1</td>\n",
       "      <td>26</td>\n",
       "      <td>161.6</td>\n",
       "      <td>123</td>\n",
       "      <td>27.47</td>\n",
       "      <td>195.5</td>\n",
       "      <td>103</td>\n",
       "      <td>16.62</td>\n",
       "      <td>254.4</td>\n",
       "      <td>103</td>\n",
       "      <td>11.45</td>\n",
       "      <td>13.7</td>\n",
       "      <td>3</td>\n",
       "      <td>3.70</td>\n",
       "      <td>1</td>\n",
       "      <td>0</td>\n",
       "      <td>35</td>\n",
       "      <td>1</td>\n",
       "    </tr>\n",
       "    <tr>\n",
       "      <th>2</th>\n",
       "      <td>137</td>\n",
       "      <td>0</td>\n",
       "      <td>0</td>\n",
       "      <td>0</td>\n",
       "      <td>243.4</td>\n",
       "      <td>114</td>\n",
       "      <td>41.38</td>\n",
       "      <td>121.2</td>\n",
       "      <td>110</td>\n",
       "      <td>10.30</td>\n",
       "      <td>162.6</td>\n",
       "      <td>104</td>\n",
       "      <td>7.32</td>\n",
       "      <td>12.2</td>\n",
       "      <td>5</td>\n",
       "      <td>3.29</td>\n",
       "      <td>0</td>\n",
       "      <td>0</td>\n",
       "      <td>31</td>\n",
       "      <td>1</td>\n",
       "    </tr>\n",
       "    <tr>\n",
       "      <th>3</th>\n",
       "      <td>84</td>\n",
       "      <td>1</td>\n",
       "      <td>0</td>\n",
       "      <td>0</td>\n",
       "      <td>299.4</td>\n",
       "      <td>71</td>\n",
       "      <td>50.90</td>\n",
       "      <td>61.9</td>\n",
       "      <td>88</td>\n",
       "      <td>5.26</td>\n",
       "      <td>196.9</td>\n",
       "      <td>89</td>\n",
       "      <td>8.86</td>\n",
       "      <td>6.6</td>\n",
       "      <td>7</td>\n",
       "      <td>1.78</td>\n",
       "      <td>2</td>\n",
       "      <td>0</td>\n",
       "      <td>35</td>\n",
       "      <td>0</td>\n",
       "    </tr>\n",
       "    <tr>\n",
       "      <th>4</th>\n",
       "      <td>75</td>\n",
       "      <td>1</td>\n",
       "      <td>0</td>\n",
       "      <td>0</td>\n",
       "      <td>166.7</td>\n",
       "      <td>113</td>\n",
       "      <td>28.34</td>\n",
       "      <td>148.3</td>\n",
       "      <td>122</td>\n",
       "      <td>12.61</td>\n",
       "      <td>186.9</td>\n",
       "      <td>121</td>\n",
       "      <td>8.41</td>\n",
       "      <td>10.1</td>\n",
       "      <td>3</td>\n",
       "      <td>2.73</td>\n",
       "      <td>3</td>\n",
       "      <td>0</td>\n",
       "      <td>36</td>\n",
       "      <td>1</td>\n",
       "    </tr>\n",
       "  </tbody>\n",
       "</table>\n",
       "</div>"
      ],
      "text/plain": [
       "   account_length  international_plan  voice_mail_plan  number_vmail_messages  \\\n",
       "0             128                   0                1                     25   \n",
       "1             107                   0                1                     26   \n",
       "2             137                   0                0                      0   \n",
       "3              84                   1                0                      0   \n",
       "4              75                   1                0                      0   \n",
       "\n",
       "   total_day_minutes  total_day_calls  total_day_charge  total_eve_minutes  \\\n",
       "0              265.1              110             45.07              197.4   \n",
       "1              161.6              123             27.47              195.5   \n",
       "2              243.4              114             41.38              121.2   \n",
       "3              299.4               71             50.90               61.9   \n",
       "4              166.7              113             28.34              148.3   \n",
       "\n",
       "   total_eve_calls  total_eve_charge  total_night_minutes  total_night_calls  \\\n",
       "0               99             16.78                244.7                 91   \n",
       "1              103             16.62                254.4                103   \n",
       "2              110             10.30                162.6                104   \n",
       "3               88              5.26                196.9                 89   \n",
       "4              122             12.61                186.9                121   \n",
       "\n",
       "   total_night_charge  total_intl_minutes  total_intl_calls  \\\n",
       "0               11.01                10.0                 3   \n",
       "1               11.45                13.7                 3   \n",
       "2                7.32                12.2                 5   \n",
       "3                8.86                 6.6                 7   \n",
       "4                8.41                10.1                 3   \n",
       "\n",
       "   total_intl_charge  number_customer_service_calls  churn  state_cat  \\\n",
       "0               2.70                              1      0         16   \n",
       "1               3.70                              1      0         35   \n",
       "2               3.29                              0      0         31   \n",
       "3               1.78                              2      0         35   \n",
       "4               2.73                              3      0         36   \n",
       "\n",
       "   area_code_cat  \n",
       "0              1  \n",
       "1              1  \n",
       "2              1  \n",
       "3              0  \n",
       "4              1  "
      ]
     },
     "execution_count": 26,
     "metadata": {},
     "output_type": "execute_result"
    }
   ],
   "source": [
    "dados.head()"
   ]
  },
  {
   "cell_type": "code",
   "execution_count": 27,
   "metadata": {},
   "outputs": [
    {
     "data": {
      "text/plain": [
       "0       16\n",
       "1       35\n",
       "2       31\n",
       "3       35\n",
       "4       36\n",
       "        ..\n",
       "1662    11\n",
       "1663    49\n",
       "1664     7\n",
       "1665     7\n",
       "1666    46\n",
       "Name: state_cat, Length: 5000, dtype: int8"
      ]
     },
     "execution_count": 27,
     "metadata": {},
     "output_type": "execute_result"
    }
   ],
   "source": [
    "dados['state_cat']"
   ]
  },
  {
   "cell_type": "markdown",
   "metadata": {},
   "source": [
    "----------------\n",
    "### Lidando com classes altamente desbalanceadas"
   ]
  },
  {
   "cell_type": "code",
   "execution_count": 28,
   "metadata": {},
   "outputs": [
    {
     "data": {
      "image/png": "[encoded data removed]",
      "text/plain": [
       "<Figure size 576x432 with 1 Axes>"
      ]
     },
     "metadata": {
      "needs_background": "light"
     },
     "output_type": "display_data"
    }
   ],
   "source": [
    "plt.figure(figsize=(8,6))\n",
    "sns.countplot(x=\"churn\", data=dados)\n",
    "plt.ylabel('Frequência', fontsize=12)\n",
    "plt.xlabel('Identificador da Classe', fontsize=12)\n",
    "plt.xticks(rotation='vertical')\n",
    "plt.title(\"Frequência de Classes\", fontsize=15)\n",
    "plt.show()"
   ]
  },
  {
   "cell_type": "code",
   "execution_count": 29,
   "metadata": {},
   "outputs": [
    {
     "name": "stdout",
     "output_type": "stream",
     "text": [
      "Número de observações TARGET = 0  4293\n",
      "Número de observações TARGET = 1  707\n",
      "Proporção TARGET_1/TARGET_0  0.16\n"
     ]
    }
   ],
   "source": [
    "target_0 = len(dados[dados['churn'] == 0])\n",
    "target_1 = len(dados[dados['churn'] == 1])\n",
    "target_p = round(target_1/target_0,2)\n",
    "print('Número de observações TARGET = 0 ', target_0)\n",
    "print('Número de observações TARGET = 1 ', target_1)\n",
    "print('Proporção TARGET_1/TARGET_0 ', target_p)"
   ]
  },
  {
   "cell_type": "code",
   "execution_count": 30,
   "metadata": {},
   "outputs": [
    {
     "name": "stdout",
     "output_type": "stream",
     "text": [
      "df_1 e df_0 Shape:  (707, 20) (4293, 20)\n"
     ]
    }
   ],
   "source": [
    "df_1 = dados[dados['churn'] == 1]\n",
    "df_0 = dados[dados['churn'] == 0]\n",
    "print('df_1 e df_0 Shape: ',df_1.shape, df_0.shape)"
   ]
  },
  {
   "cell_type": "code",
   "execution_count": 31,
   "metadata": {},
   "outputs": [],
   "source": [
    "from sklearn.utils import resample\n",
    "\n",
    "# Upsample minority class\n",
    "target_1_up = resample(df_1, \n",
    "                             replace=True,     # sample with replacement\n",
    "                             n_samples=2500,   # to match majority class\n",
    "                             random_state=123) # reproducible results\n",
    "\n",
    "# Downsample majority class\n",
    "target_0_down = resample(df_0, \n",
    "                             replace=False,    # sample without replacement\n",
    "                             n_samples=2500,   # to match minority class\n",
    "                             random_state=123) # reproducible results"
   ]
  },
  {
   "cell_type": "code",
   "execution_count": 32,
   "metadata": {},
   "outputs": [
    {
     "name": "stdout",
     "output_type": "stream",
     "text": [
      "Dados Shape:  (5000, 20)\n"
     ]
    }
   ],
   "source": [
    "dados = pd.concat([target_1_up, target_0_down],sort=False)\n",
    "print('Dados Shape: ',dados.shape)"
   ]
  },
  {
   "cell_type": "code",
   "execution_count": 33,
   "metadata": {},
   "outputs": [
    {
     "data": {
      "image/png": "[encoded data removed]",
      "text/plain": [
       "<Figure size 576x432 with 1 Axes>"
      ]
     },
     "metadata": {
      "needs_background": "light"
     },
     "output_type": "display_data"
    }
   ],
   "source": [
    "plt.figure(figsize=(8,6))\n",
    "sns.countplot(x=\"churn\", data=dados)\n",
    "plt.ylabel('Frequência', fontsize=12)\n",
    "plt.xlabel('Identificador da Classe', fontsize=12)\n",
    "plt.xticks(rotation='vertical')\n",
    "plt.title(\"Frequência de Classes\", fontsize=15)\n",
    "plt.show()"
   ]
  },
  {
   "cell_type": "markdown",
   "metadata": {},
   "source": [
    "------------------\n",
    "### Dividir os dados em Treino e Teste"
   ]
  },
  {
   "cell_type": "code",
   "execution_count": 34,
   "metadata": {},
   "outputs": [],
   "source": [
    "y = dados['churn'] \n",
    "X = dados.drop('churn', axis = 1) "
   ]
  },
  {
   "cell_type": "code",
   "execution_count": 35,
   "metadata": {},
   "outputs": [],
   "source": [
    "from sklearn.model_selection import train_test_split\n",
    "X_train, X_test, y_train, y_test = train_test_split(X, y, test_size=0.25, random_state=10)"
   ]
  },
  {
   "cell_type": "code",
   "execution_count": 36,
   "metadata": {},
   "outputs": [
    {
     "name": "stdout",
     "output_type": "stream",
     "text": [
      "X_train e y_train [shape] e [type]:  (3750, 19) <class 'pandas.core.frame.DataFrame'> (3750,) <class 'pandas.core.series.Series'>\n",
      "X_test e y_test [shape] e [type]:  (1250, 19) <class 'pandas.core.frame.DataFrame'> (1250,) <class 'pandas.core.series.Series'>\n"
     ]
    }
   ],
   "source": [
    "print('X_train e y_train [shape] e [type]: ', X_train.shape, type(X_train), y_train.shape, type(y_train))\n",
    "print('X_test e y_test [shape] e [type]: ', X_test.shape, type(X_test), y_test.shape, type(y_test))"
   ]
  },
  {
   "cell_type": "markdown",
   "metadata": {},
   "source": [
    "-------\n",
    "### Seleção de Atributos"
   ]
  },
  {
   "cell_type": "code",
   "execution_count": 37,
   "metadata": {},
   "outputs": [
    {
     "name": "stdout",
     "output_type": "stream",
     "text": [
      "\n",
      "--- 2 seconds ---\n"
     ]
    }
   ],
   "source": [
    "# Feature Importance\n",
    "#from sklearn import datasets\n",
    "#from sklearn import metrics\n",
    "from sklearn.ensemble import ExtraTreesClassifier\n",
    "import time\n",
    "\n",
    "start_time = time.time()\n",
    "# fit an Extra Trees model to the data\n",
    "clf = ExtraTreesClassifier(n_estimators = 200, criterion ='entropy', max_features = 'auto')\n",
    "clf.fit(X, y)\n",
    "# display the relative importance of each attribute\n",
    "feature_importances = clf.feature_importances_\n",
    "\n",
    "tempo  = time.time() - start_time\n",
    "print(\"\\n--- %s seconds ---\" % (round(tempo)))"
   ]
  },
  {
   "cell_type": "code",
   "execution_count": 38,
   "metadata": {},
   "outputs": [
    {
     "name": "stdout",
     "output_type": "stream",
     "text": [
      "Feature ranking:\n",
      "1. number_customer_service_calls: feature 16 (0.130435)\n",
      "2. total_day_charge: feature 6 (0.123205)\n",
      "3. total_day_minutes: feature 4 (0.115427)\n",
      "4. international_plan: feature 1 (0.068412)\n",
      "5. total_eve_minutes: feature 7 (0.055016)\n",
      "6. total_eve_charge: feature 9 (0.052634)\n",
      "7. total_intl_calls: feature 14 (0.046289)\n",
      "8. total_intl_minutes: feature 13 (0.040205)\n",
      "9. total_intl_charge: feature 15 (0.040063)\n",
      "10. total_night_charge: feature 12 (0.039236)\n",
      "11. total_night_minutes: feature 10 (0.039206)\n",
      "12. state_cat: feature 17 (0.037724)\n",
      "13. account_length: feature 0 (0.036188)\n",
      "14. total_day_calls: feature 5 (0.035778)\n",
      "15. total_night_calls: feature 11 (0.035082)\n",
      "16. total_eve_calls: feature 8 (0.032826)\n",
      "17. area_code_cat: feature 18 (0.029230)\n",
      "18. voice_mail_plan: feature 2 (0.023657)\n",
      "19. number_vmail_messages: feature 3 (0.019385)\n"
     ]
    }
   ],
   "source": [
    "# lista o nome e a importancia de todas as features\n",
    "# não é necessário executar esta celula ;-)\n",
    "\n",
    "indices = np.argsort(feature_importances)[::-1]\n",
    "\n",
    "# Print the feature ranking\n",
    "print(\"Feature ranking:\")\n",
    "for f in range(X.shape[1]):\n",
    "    colname = X.columns[indices[f]]\n",
    "    print(\"%d. %s: feature %d (%f)\" % (f + 1, colname, indices[f], feature_importances[indices[f]]))"
   ]
  },
  {
   "cell_type": "markdown",
   "metadata": {},
   "source": [
    "------------\n",
    "### Correlação"
   ]
  },
  {
   "cell_type": "code",
   "execution_count": 39,
   "metadata": {},
   "outputs": [],
   "source": [
    "dados2 = pd.concat([X_train, y_train], axis=1)"
   ]
  },
  {
   "cell_type": "code",
   "execution_count": 40,
   "metadata": {},
   "outputs": [
    {
     "data": {
      "text/html": [
       "<div>\n",
       "<style scoped>\n",
       "    .dataframe tbody tr th:only-of-type {\n",
       "        vertical-align: middle;\n",
       "    }\n",
       "\n",
       "    .dataframe tbody tr th {\n",
       "        vertical-align: top;\n",
       "    }\n",
       "\n",
       "    .dataframe thead th {\n",
       "        text-align: right;\n",
       "    }\n",
       "</style>\n",
       "<table border=\"1\" class=\"dataframe\">\n",
       "  <thead>\n",
       "    <tr style=\"text-align: right;\">\n",
       "      <th></th>\n",
       "      <th>account_length</th>\n",
       "      <th>international_plan</th>\n",
       "      <th>voice_mail_plan</th>\n",
       "      <th>number_vmail_messages</th>\n",
       "      <th>total_day_minutes</th>\n",
       "      <th>total_day_calls</th>\n",
       "      <th>total_day_charge</th>\n",
       "      <th>total_eve_minutes</th>\n",
       "      <th>total_eve_calls</th>\n",
       "      <th>total_eve_charge</th>\n",
       "      <th>total_night_minutes</th>\n",
       "      <th>total_night_calls</th>\n",
       "      <th>total_night_charge</th>\n",
       "      <th>total_intl_minutes</th>\n",
       "      <th>total_intl_calls</th>\n",
       "      <th>total_intl_charge</th>\n",
       "      <th>number_customer_service_calls</th>\n",
       "      <th>state_cat</th>\n",
       "      <th>area_code_cat</th>\n",
       "      <th>churn</th>\n",
       "    </tr>\n",
       "  </thead>\n",
       "  <tbody>\n",
       "    <tr>\n",
       "      <th>676</th>\n",
       "      <td>49</td>\n",
       "      <td>0</td>\n",
       "      <td>0</td>\n",
       "      <td>0</td>\n",
       "      <td>260.9</td>\n",
       "      <td>88</td>\n",
       "      <td>44.35</td>\n",
       "      <td>174.2</td>\n",
       "      <td>103</td>\n",
       "      <td>14.81</td>\n",
       "      <td>262.8</td>\n",
       "      <td>98</td>\n",
       "      <td>11.83</td>\n",
       "      <td>10.6</td>\n",
       "      <td>4</td>\n",
       "      <td>2.86</td>\n",
       "      <td>1</td>\n",
       "      <td>48</td>\n",
       "      <td>0</td>\n",
       "      <td>0</td>\n",
       "    </tr>\n",
       "    <tr>\n",
       "      <th>1518</th>\n",
       "      <td>39</td>\n",
       "      <td>0</td>\n",
       "      <td>0</td>\n",
       "      <td>0</td>\n",
       "      <td>189.6</td>\n",
       "      <td>89</td>\n",
       "      <td>32.23</td>\n",
       "      <td>251.6</td>\n",
       "      <td>116</td>\n",
       "      <td>21.39</td>\n",
       "      <td>230.9</td>\n",
       "      <td>105</td>\n",
       "      <td>10.39</td>\n",
       "      <td>5.4</td>\n",
       "      <td>8</td>\n",
       "      <td>1.46</td>\n",
       "      <td>3</td>\n",
       "      <td>42</td>\n",
       "      <td>2</td>\n",
       "      <td>0</td>\n",
       "    </tr>\n",
       "    <tr>\n",
       "      <th>1396</th>\n",
       "      <td>140</td>\n",
       "      <td>1</td>\n",
       "      <td>1</td>\n",
       "      <td>27</td>\n",
       "      <td>188.9</td>\n",
       "      <td>124</td>\n",
       "      <td>32.11</td>\n",
       "      <td>160.9</td>\n",
       "      <td>102</td>\n",
       "      <td>13.68</td>\n",
       "      <td>197.7</td>\n",
       "      <td>100</td>\n",
       "      <td>8.90</td>\n",
       "      <td>11.5</td>\n",
       "      <td>5</td>\n",
       "      <td>3.11</td>\n",
       "      <td>4</td>\n",
       "      <td>20</td>\n",
       "      <td>1</td>\n",
       "      <td>0</td>\n",
       "    </tr>\n",
       "    <tr>\n",
       "      <th>995</th>\n",
       "      <td>94</td>\n",
       "      <td>0</td>\n",
       "      <td>0</td>\n",
       "      <td>0</td>\n",
       "      <td>190.6</td>\n",
       "      <td>108</td>\n",
       "      <td>32.40</td>\n",
       "      <td>152.3</td>\n",
       "      <td>95</td>\n",
       "      <td>12.95</td>\n",
       "      <td>144.7</td>\n",
       "      <td>97</td>\n",
       "      <td>6.51</td>\n",
       "      <td>7.5</td>\n",
       "      <td>5</td>\n",
       "      <td>2.03</td>\n",
       "      <td>1</td>\n",
       "      <td>33</td>\n",
       "      <td>2</td>\n",
       "      <td>0</td>\n",
       "    </tr>\n",
       "    <tr>\n",
       "      <th>212</th>\n",
       "      <td>82</td>\n",
       "      <td>0</td>\n",
       "      <td>1</td>\n",
       "      <td>24</td>\n",
       "      <td>155.2</td>\n",
       "      <td>131</td>\n",
       "      <td>26.38</td>\n",
       "      <td>244.5</td>\n",
       "      <td>106</td>\n",
       "      <td>20.78</td>\n",
       "      <td>122.4</td>\n",
       "      <td>68</td>\n",
       "      <td>5.51</td>\n",
       "      <td>10.7</td>\n",
       "      <td>3</td>\n",
       "      <td>2.89</td>\n",
       "      <td>1</td>\n",
       "      <td>38</td>\n",
       "      <td>1</td>\n",
       "      <td>0</td>\n",
       "    </tr>\n",
       "  </tbody>\n",
       "</table>\n",
       "</div>"
      ],
      "text/plain": [
       "      account_length  international_plan  voice_mail_plan  \\\n",
       "676               49                   0                0   \n",
       "1518              39                   0                0   \n",
       "1396             140                   1                1   \n",
       "995               94                   0                0   \n",
       "212               82                   0                1   \n",
       "\n",
       "      number_vmail_messages  total_day_minutes  total_day_calls  \\\n",
       "676                       0              260.9               88   \n",
       "1518                      0              189.6               89   \n",
       "1396                     27              188.9              124   \n",
       "995                       0              190.6              108   \n",
       "212                      24              155.2              131   \n",
       "\n",
       "      total_day_charge  total_eve_minutes  total_eve_calls  total_eve_charge  \\\n",
       "676              44.35              174.2              103             14.81   \n",
       "1518             32.23              251.6              116             21.39   \n",
       "1396             32.11              160.9              102             13.68   \n",
       "995              32.40              152.3               95             12.95   \n",
       "212              26.38              244.5              106             20.78   \n",
       "\n",
       "      total_night_minutes  total_night_calls  total_night_charge  \\\n",
       "676                 262.8                 98               11.83   \n",
       "1518                230.9                105               10.39   \n",
       "1396                197.7                100                8.90   \n",
       "995                 144.7                 97                6.51   \n",
       "212                 122.4                 68                5.51   \n",
       "\n",
       "      total_intl_minutes  total_intl_calls  total_intl_charge  \\\n",
       "676                 10.6                 4               2.86   \n",
       "1518                 5.4                 8               1.46   \n",
       "1396                11.5                 5               3.11   \n",
       "995                  7.5                 5               2.03   \n",
       "212                 10.7                 3               2.89   \n",
       "\n",
       "      number_customer_service_calls  state_cat  area_code_cat  churn  \n",
       "676                               1         48              0      0  \n",
       "1518                              3         42              2      0  \n",
       "1396                              4         20              1      0  \n",
       "995                               1         33              2      0  \n",
       "212                               1         38              1      0  "
      ]
     },
     "execution_count": 40,
     "metadata": {},
     "output_type": "execute_result"
    }
   ],
   "source": [
    "dados2.head()"
   ]
  },
  {
   "cell_type": "code",
   "execution_count": 41,
   "metadata": {},
   "outputs": [
    {
     "data": {
      "text/plain": [
       "<AxesSubplot:>"
      ]
     },
     "execution_count": 41,
     "metadata": {},
     "output_type": "execute_result"
    },
    {
     "data": {
      "image/png": "[encoded data removed]",
      "text/plain": [
       "<Figure size 792x648 with 2 Axes>"
      ]
     },
     "metadata": {
      "needs_background": "light"
     },
     "output_type": "display_data"
    }
   ],
   "source": [
    "# Compute the correlation matrix\n",
    "corr = dados2.corr()\n",
    "\n",
    "# Generate a mask for the upper triangle\n",
    "mask = np.triu(np.ones_like(corr, dtype=bool))\n",
    "\n",
    "# Set up the matplotlib figure\n",
    "f, ax = plt.subplots(figsize=(11, 9))\n",
    "\n",
    "# Generate a custom diverging colormap\n",
    "# cmap = sns.diverging_palette(230, 20, as_cmap=True)\n",
    "cmap = sns.diverging_palette(30, 600, s=90, as_cmap=True)\n",
    "\n",
    "\n",
    "# Draw the heatmap with the mask and correct aspect ratio\n",
    "sns.heatmap(corr, mask=mask, cmap=cmap, vmax=.3, center=0,\n",
    "            square=True, linewidths=.5, cbar_kws={\"shrink\": .5})"
   ]
  },
  {
   "cell_type": "markdown",
   "metadata": {},
   "source": [
    "https://www.geeksforgeeks.org/detecting-multicollinearity-with-vif-python/\n",
    "\n",
    "https://adataanalyst.com/machine-learning/guide-for-linear-regression-using-python-part-2/\n",
    "\n",
    "Multicollinearity occurs when two or more independent variables are highly correlated with one another in a regression model."
   ]
  },
  {
   "cell_type": "code",
   "execution_count": 42,
   "metadata": {},
   "outputs": [
    {
     "name": "stdout",
     "output_type": "stream",
     "text": [
      "                          feature           VIF\n",
      "0                  account_length  7.056697e+00\n",
      "1              international_plan  1.367962e+00\n",
      "2                 voice_mail_plan  1.749808e+01\n",
      "3           number_vmail_messages  1.714952e+01\n",
      "4               total_day_minutes  1.458779e+08\n",
      "5                 total_day_calls  2.097704e+01\n",
      "6                total_day_charge  1.458799e+08\n",
      "7               total_eve_minutes  3.843398e+07\n",
      "8                 total_eve_calls  2.209397e+01\n",
      "9                total_eve_charge  3.843460e+07\n",
      "10            total_night_minutes  1.063361e+07\n",
      "11              total_night_calls  2.122766e+01\n",
      "12             total_night_charge  1.063336e+07\n",
      "13             total_intl_minutes  1.048776e+06\n",
      "14               total_intl_calls  4.049393e+00\n",
      "15              total_intl_charge  1.049145e+06\n",
      "16  number_customer_service_calls  2.714318e+00\n",
      "17                      state_cat  4.095631e+00\n",
      "18                  area_code_cat  2.997998e+00\n",
      "19                          churn  2.733477e+00\n"
     ]
    }
   ],
   "source": [
    "from statsmodels.stats.outliers_influence import variance_inflation_factor \n",
    "\n",
    "vif_data = pd.DataFrame() \n",
    "vif_data[\"feature\"] = dados2.columns \n",
    "\n",
    "# calculating VIF for each feature \n",
    "vif_data[\"VIF\"] = [variance_inflation_factor(dados2.values, i) \n",
    "                          for i in range(len(dados2.columns))] \n",
    "  \n",
    "print(vif_data)"
   ]
  },
  {
   "cell_type": "code",
   "execution_count": 43,
   "metadata": {},
   "outputs": [
    {
     "data": {
      "text/plain": [
       "\u001b[0;31mSignature:\u001b[0m \u001b[0mvariance_inflation_factor\u001b[0m\u001b[0;34m(\u001b[0m\u001b[0mexog\u001b[0m\u001b[0;34m,\u001b[0m \u001b[0mexog_idx\u001b[0m\u001b[0;34m)\u001b[0m\u001b[0;34m\u001b[0m\u001b[0;34m\u001b[0m\u001b[0m\n",
       "\u001b[0;31mDocstring:\u001b[0m\n",
       "variance inflation factor, VIF, for one exogenous variable\n",
       "\n",
       "The variance inflation factor is a measure for the increase of the\n",
       "variance of the parameter estimates if an additional variable, given by\n",
       "exog_idx is added to the linear regression. It is a measure for\n",
       "multicollinearity of the design matrix, exog.\n",
       "\n",
       "One recommendation is that if VIF is greater than 5, then the explanatory\n",
       "variable given by exog_idx is highly collinear with the other explanatory\n",
       "variables, and the parameter estimates will have large standard errors\n",
       "because of this.\n",
       "\n",
       "Parameters\n",
       "----------\n",
       "exog : ndarray\n",
       "    design matrix with all explanatory variables, as for example used in\n",
       "    regression\n",
       "exog_idx : int\n",
       "    index of the exogenous variable in the columns of exog\n",
       "\n",
       "Returns\n",
       "-------\n",
       "vif : float\n",
       "    variance inflation factor\n",
       "\n",
       "Notes\n",
       "-----\n",
       "This function does not save the auxiliary regression.\n",
       "\n",
       "See Also\n",
       "--------\n",
       "xxx : class for regression diagnostics  TODO: does not exist yet\n",
       "\n",
       "References\n",
       "----------\n",
       "https://en.wikipedia.org/wiki/Variance_inflation_factor\n",
       "\u001b[0;31mFile:\u001b[0m      ~/anaconda3/lib/python3.9/site-packages/statsmodels/stats/outliers_influence.py\n",
       "\u001b[0;31mType:\u001b[0m      function\n"
      ]
     },
     "metadata": {},
     "output_type": "display_data"
    }
   ],
   "source": [
    "?variance_inflation_factor"
   ]
  },
  {
   "cell_type": "markdown",
   "metadata": {},
   "source": [
    "Feature ranking:\n",
    "1. number_customer_service_calls: feature 16 (0.126208)\n",
    "2. total_day_minutes: feature 4 (0.121851)\n",
    "3. total_day_charge: feature 6 (0.118575)\n",
    "4. international_plan: feature 1 (0.071614)\n",
    "5. total_eve_charge: feature 9 (0.054645)\n",
    "6. total_eve_minutes: feature 7 (0.052729)\n",
    "7. total_intl_calls: feature 14 (0.045392)\n",
    "8. total_night_minutes: feature 10 (0.040441)\n",
    "9. total_intl_minutes: feature 13 (0.040180)\n",
    "10. total_intl_charge: feature 15 (0.039956)\n",
    "11. total_night_charge: feature 12 (0.038592)\n",
    "12. state_cat: feature 17 (0.038166)\n",
    "13. account_length: feature 0 (0.036596)\n",
    "14. total_night_calls: feature 11 (0.035584)\n",
    "15. total_day_calls: feature 5 (0.035529)\n",
    "16. total_eve_calls: feature 8 (0.033922)\n",
    "17. area_code_cat: feature 18 (0.028467)\n",
    "18. voice_mail_plan: feature 2 (0.022386)\n",
    "19. number_vmail_messages: feature 3 (0.019168)\n",
    "\n",
    "Note que total_algo_minutes tem um forte correlacao com total_algo_charge - uma destas \n",
    "poderia ser removida\n",
    "\n",
    "Feature chosen:\n",
    "1. number_customer_service_calls: feature 16 (0.126208)\n",
    "3. total_day_charge: feature 6 (0.118575)\n",
    "4. international_plan: feature 1 (0.071614)\n",
    "5. total_eve_charge: feature 9 (0.054645)\n",
    "7. total_intl_calls: feature 14 (0.045392)\n",
    "10. total_intl_charge: feature 15 (0.039956)\n",
    "11. total_night_charge: feature 12 (0.038592)"
   ]
  },
  {
   "cell_type": "code",
   "execution_count": 44,
   "metadata": {},
   "outputs": [],
   "source": [
    "features = [ 'number_customer_service_calls', 'total_day_charge', 'international_plan', \n",
    "            'total_eve_charge', 'total_intl_calls', 'total_intl_charge', 'total_night_charge','churn']"
   ]
  },
  {
   "cell_type": "code",
   "execution_count": 45,
   "metadata": {},
   "outputs": [
    {
     "name": "stdout",
     "output_type": "stream",
     "text": [
      "                         feature        VIF\n",
      "0  number_customer_service_calls   2.523325\n",
      "1               total_day_charge  10.975234\n",
      "2             international_plan   1.342358\n",
      "3               total_eve_charge  13.149549\n",
      "4               total_intl_calls   3.919751\n",
      "5              total_intl_charge  11.567995\n",
      "6             total_night_charge  12.946011\n",
      "7                          churn   2.600318\n"
     ]
    }
   ],
   "source": [
    "vif_data = pd.DataFrame() \n",
    "dados3 = dados2[features]\n",
    "vif_data[\"feature\"] = dados3.columns \n",
    "\n",
    "# calculating VIF for each feature \n",
    "vif_data[\"VIF\"] = [variance_inflation_factor(dados3.values, i) \n",
    "                          for i in range(len(dados3.columns))] \n",
    "  \n",
    "print(vif_data)"
   ]
  },
  {
   "cell_type": "code",
   "execution_count": 46,
   "metadata": {},
   "outputs": [],
   "source": [
    "features = [ 'number_customer_service_calls', 'total_day_charge', \n",
    "            'international_plan', 'total_intl_calls', 'churn']"
   ]
  },
  {
   "cell_type": "code",
   "execution_count": 47,
   "metadata": {},
   "outputs": [
    {
     "name": "stdout",
     "output_type": "stream",
     "text": [
      "                         feature       VIF\n",
      "0  number_customer_service_calls  2.227287\n",
      "1               total_day_charge  4.667780\n",
      "2             international_plan  1.290901\n",
      "3               total_intl_calls  3.415136\n",
      "4                          churn  2.587618\n"
     ]
    }
   ],
   "source": [
    "vif_data = pd.DataFrame() \n",
    "dados3 = dados2[features]\n",
    "vif_data[\"feature\"] = dados3.columns \n",
    "\n",
    "# calculating VIF for each feature \n",
    "vif_data[\"VIF\"] = [variance_inflation_factor(dados3.values, i) \n",
    "                          for i in range(len(dados3.columns))] \n",
    "  \n",
    "print(vif_data)"
   ]
  },
  {
   "cell_type": "markdown",
   "metadata": {},
   "source": [
    "------\n",
    "### Conclusão da Seleção de Features\n",
    "\n",
    "Com base no ExtraTreesClassifier e na análise de variance inflation factor\n",
    "\n",
    "Ficamos com estes aqui... \n",
    "Vamos ver se eles conseguem explicar de forma significativa a variação do target\n",
    "\n",
    "'number_customer_service_calls', \n",
    "'total_day_charge', \n",
    "'international_plan', \n",
    "'total_intl_calls'\n"
   ]
  },
  {
   "cell_type": "markdown",
   "metadata": {},
   "source": [
    "-----\n",
    "### Distribuição"
   ]
  },
  {
   "cell_type": "code",
   "execution_count": 48,
   "metadata": {},
   "outputs": [
    {
     "data": {
      "text/plain": [
       "array([[<AxesSubplot:title={'center':'account_length'}>,\n",
       "        <AxesSubplot:title={'center':'international_plan'}>,\n",
       "        <AxesSubplot:title={'center':'voice_mail_plan'}>,\n",
       "        <AxesSubplot:title={'center':'number_vmail_messages'}>],\n",
       "       [<AxesSubplot:title={'center':'total_day_minutes'}>,\n",
       "        <AxesSubplot:title={'center':'total_day_calls'}>,\n",
       "        <AxesSubplot:title={'center':'total_day_charge'}>,\n",
       "        <AxesSubplot:title={'center':'total_eve_minutes'}>],\n",
       "       [<AxesSubplot:title={'center':'total_eve_calls'}>,\n",
       "        <AxesSubplot:title={'center':'total_eve_charge'}>,\n",
       "        <AxesSubplot:title={'center':'total_night_minutes'}>,\n",
       "        <AxesSubplot:title={'center':'total_night_calls'}>],\n",
       "       [<AxesSubplot:title={'center':'total_night_charge'}>,\n",
       "        <AxesSubplot:title={'center':'total_intl_minutes'}>,\n",
       "        <AxesSubplot:title={'center':'total_intl_calls'}>,\n",
       "        <AxesSubplot:title={'center':'total_intl_charge'}>],\n",
       "       [<AxesSubplot:title={'center':'number_customer_service_calls'}>,\n",
       "        <AxesSubplot:title={'center':'state_cat'}>,\n",
       "        <AxesSubplot:title={'center':'area_code_cat'}>,\n",
       "        <AxesSubplot:title={'center':'churn'}>]], dtype=object)"
      ]
     },
     "execution_count": 48,
     "metadata": {},
     "output_type": "execute_result"
    },
    {
     "data": {
      "image/png": "[encoded data removed]",
      "text/plain": [
       "<Figure size 1008x720 with 20 Axes>"
      ]
     },
     "metadata": {
      "needs_background": "light"
     },
     "output_type": "display_data"
    }
   ],
   "source": [
    "dados2.hist(bins=20, figsize=(14,10))"
   ]
  },
  {
   "cell_type": "code",
   "execution_count": 49,
   "metadata": {},
   "outputs": [
    {
     "data": {
      "text/plain": [
       "<AxesSubplot:>"
      ]
     },
     "execution_count": 49,
     "metadata": {},
     "output_type": "execute_result"
    },
    {
     "data": {
      "image/png": "[encoded data removed]",
      "text/plain": [
       "<Figure size 1008x432 with 1 Axes>"
      ]
     },
     "metadata": {
      "needs_background": "light"
     },
     "output_type": "display_data"
    }
   ],
   "source": [
    "dados2.boxplot(figsize=(14,6),rot=45)"
   ]
  },
  {
   "cell_type": "markdown",
   "metadata": {},
   "source": [
    "-----------------\n",
    "### Divindo novamente os dados"
   ]
  },
  {
   "cell_type": "code",
   "execution_count": 50,
   "metadata": {},
   "outputs": [],
   "source": [
    "y = dados3['churn'] \n",
    "X = dados3.drop('churn', axis = 1) \n",
    "\n",
    "from sklearn.model_selection import train_test_split\n",
    "X_train, X_test, y_train, y_test = train_test_split(X, y, test_size=0.25, random_state=10)"
   ]
  },
  {
   "cell_type": "code",
   "execution_count": 51,
   "metadata": {},
   "outputs": [
    {
     "name": "stdout",
     "output_type": "stream",
     "text": [
      "X_train e y_train [shape] e [type]:  (2812, 4) <class 'pandas.core.frame.DataFrame'> (2812,) <class 'pandas.core.series.Series'>\n",
      "X_test e y_test [shape] e [type]:  (938, 4) <class 'pandas.core.frame.DataFrame'> (938,) <class 'pandas.core.series.Series'>\n"
     ]
    }
   ],
   "source": [
    "print('X_train e y_train [shape] e [type]: ', X_train.shape, type(X_train), y_train.shape, type(y_train))\n",
    "print('X_test e y_test [shape] e [type]: ', X_test.shape, type(X_test), y_test.shape, type(y_test))"
   ]
  },
  {
   "cell_type": "code",
   "execution_count": 52,
   "metadata": {},
   "outputs": [
    {
     "data": {
      "text/html": [
       "<div>\n",
       "<style scoped>\n",
       "    .dataframe tbody tr th:only-of-type {\n",
       "        vertical-align: middle;\n",
       "    }\n",
       "\n",
       "    .dataframe tbody tr th {\n",
       "        vertical-align: top;\n",
       "    }\n",
       "\n",
       "    .dataframe thead th {\n",
       "        text-align: right;\n",
       "    }\n",
       "</style>\n",
       "<table border=\"1\" class=\"dataframe\">\n",
       "  <thead>\n",
       "    <tr style=\"text-align: right;\">\n",
       "      <th></th>\n",
       "      <th>number_customer_service_calls</th>\n",
       "      <th>total_day_charge</th>\n",
       "      <th>international_plan</th>\n",
       "      <th>total_intl_calls</th>\n",
       "    </tr>\n",
       "  </thead>\n",
       "  <tbody>\n",
       "    <tr>\n",
       "      <th>2594</th>\n",
       "      <td>1</td>\n",
       "      <td>58.70</td>\n",
       "      <td>1</td>\n",
       "      <td>8</td>\n",
       "    </tr>\n",
       "    <tr>\n",
       "      <th>1496</th>\n",
       "      <td>2</td>\n",
       "      <td>32.44</td>\n",
       "      <td>0</td>\n",
       "      <td>1</td>\n",
       "    </tr>\n",
       "    <tr>\n",
       "      <th>1374</th>\n",
       "      <td>1</td>\n",
       "      <td>36.43</td>\n",
       "      <td>0</td>\n",
       "      <td>5</td>\n",
       "    </tr>\n",
       "    <tr>\n",
       "      <th>467</th>\n",
       "      <td>1</td>\n",
       "      <td>28.97</td>\n",
       "      <td>0</td>\n",
       "      <td>4</td>\n",
       "    </tr>\n",
       "    <tr>\n",
       "      <th>1925</th>\n",
       "      <td>2</td>\n",
       "      <td>32.33</td>\n",
       "      <td>0</td>\n",
       "      <td>6</td>\n",
       "    </tr>\n",
       "  </tbody>\n",
       "</table>\n",
       "</div>"
      ],
      "text/plain": [
       "      number_customer_service_calls  total_day_charge  international_plan  \\\n",
       "2594                              1             58.70                   1   \n",
       "1496                              2             32.44                   0   \n",
       "1374                              1             36.43                   0   \n",
       "467                               1             28.97                   0   \n",
       "1925                              2             32.33                   0   \n",
       "\n",
       "      total_intl_calls  \n",
       "2594                 8  \n",
       "1496                 1  \n",
       "1374                 5  \n",
       "467                  4  \n",
       "1925                 6  "
      ]
     },
     "execution_count": 52,
     "metadata": {},
     "output_type": "execute_result"
    }
   ],
   "source": [
    "X_test.head()"
   ]
  },
  {
   "cell_type": "code",
   "execution_count": 53,
   "metadata": {},
   "outputs": [],
   "source": [
    "file_name = 'modelo/customers.csv'\n",
    "X_test.to_csv(file_name, sep=',', encoding='utf-8', index=False)"
   ]
  },
  {
   "cell_type": "markdown",
   "metadata": {},
   "source": [
    "------------\n",
    "### LogisticRegression"
   ]
  },
  {
   "cell_type": "code",
   "execution_count": 54,
   "metadata": {},
   "outputs": [
    {
     "name": "stdout",
     "output_type": "stream",
     "text": [
      "Accuracy of logistic regression on test set: 0.75\n",
      "\n",
      "--- 0 seconds ---\n"
     ]
    }
   ],
   "source": [
    "from sklearn.linear_model import LogisticRegression\n",
    "import time\n",
    "\n",
    "start_time = time.time()\n",
    "logreg = LogisticRegression(max_iter=5000, random_state=0).fit(X_train, y_train)\n",
    "\n",
    "y_pred = logreg.predict(X_test)\n",
    "print('Accuracy of logistic regression on test set: {:.2f}'.format(logreg.score(X_test, y_test)))\n",
    "\n",
    "tempo  = time.time() - start_time\n",
    "print(\"\\n--- %s seconds ---\" % (round(tempo)))"
   ]
  },
  {
   "cell_type": "code",
   "execution_count": 55,
   "metadata": {},
   "outputs": [
    {
     "name": "stdout",
     "output_type": "stream",
     "text": [
      "0.7452025586353944\n"
     ]
    }
   ],
   "source": [
    "import pickle\n",
    "\n",
    "logreg.fit(X_train, y_train)\n",
    "\n",
    "filename = 'modelo/finalized_model.sav'\n",
    "pickle.dump(logreg, open(filename, 'wb'))\n",
    " \n",
    "# some time later...\n",
    " \n",
    "# load the model from disk\n",
    "loaded_model = pickle.load(open(filename, 'rb'))\n",
    "result = loaded_model.score(X_test, y_test)\n",
    "print(result)"
   ]
  },
  {
   "cell_type": "markdown",
   "metadata": {},
   "source": [
    "------------\n",
    "### Realizando previsoes com o modelo"
   ]
  },
  {
   "cell_type": "code",
   "execution_count": 56,
   "metadata": {},
   "outputs": [],
   "source": [
    "# load the model from disk\n",
    "loaded_model = pickle.load(open(filename, 'rb'))\n",
    "customers = pd.read_csv(\"modelo/customers.csv\")\n",
    "pred = loaded_model.predict(customers)"
   ]
  },
  {
   "cell_type": "markdown",
   "metadata": {},
   "source": [
    "https://www.analyticsvidhya.com/blog/2020/06/auc-roc-curve-machine-learning/"
   ]
  },
  {
   "cell_type": "code",
   "execution_count": 85,
   "metadata": {},
   "outputs": [
    {
     "name": "stdout",
     "output_type": "stream",
     "text": [
      "p_fpr, p_tpr :  [0. 1.] [0. 1.]\n",
      "auc score 0.7455487050778408\n"
     ]
    }
   ],
   "source": [
    "from sklearn.metrics import roc_curve\n",
    "from sklearn.metrics import roc_auc_score\n",
    "\n",
    "# roc curve for models\n",
    "fpr1, tpr1, thresh1 = roc_curve(y_test, pred, pos_label=1)\n",
    "\n",
    "# roc curve for tpr = fpr \n",
    "random_probs = [0 for i in range(len(y_test))]\n",
    "p_fpr, p_tpr, _ = roc_curve(y_test, random_probs, pos_label=1)\n",
    "print('p_fpr, p_tpr : ',p_fpr, p_tpr)\n",
    "\n",
    "auc_score = roc_auc_score(y_test, pred)\n",
    "print('auc score',auc_score)\n"
   ]
  },
  {
   "cell_type": "code",
   "execution_count": 86,
   "metadata": {},
   "outputs": [
    {
     "data": {
      "text/plain": [
       "<matplotlib.legend.Legend at 0x7f2018cf5dc0>"
      ]
     },
     "execution_count": 86,
     "metadata": {},
     "output_type": "execute_result"
    },
    {
     "data": {
      "image/png": "[encoded data removed]",
      "text/plain": [
       "<Figure size 432x288 with 1 Axes>"
      ]
     },
     "metadata": {
      "needs_background": "light"
     },
     "output_type": "display_data"
    }
   ],
   "source": [
    "# https://colab.research.google.com/github/dannycab/MSU_REU_ML_course/blob/main/notebooks/day-4/Day_4-Multiplicity_of_Models.ipynb#scrollTo=5d942768-85f3-4328-a87c-0551c2626da9\n",
    "fpr, tpr, thresholds = roc_curve(y_test, pred)\n",
    "\n",
    "plt.figure()\n",
    "\n",
    "plt.plot(fpr, tpr, label='ROC curve (AUC = %0.2f)' % roc_auc_score(y_test, pred))\n",
    "plt.plot([0, 1], [0, 1], c='k', linestyle='--')\n",
    "\n",
    "plt.axis([0, 1, 0, 1])\n",
    "plt.xlabel('FPR')\n",
    "plt.ylabel('TPR')\n",
    "plt.legend(loc=\"lower right\")"
   ]
  },
  {
   "cell_type": "markdown",
   "metadata": {},
   "source": [
    "### LogisticRegression - Pipeline - GridSearchCV"
   ]
  },
  {
   "cell_type": "code",
   "execution_count": null,
   "metadata": {},
   "outputs": [],
   "source": [
    "import warnings\n",
    "warnings.filterwarnings('ignore') \n",
    "\n",
    "from sklearn.pipeline import Pipeline\n",
    "from sklearn.model_selection import GridSearchCV\n",
    "from sklearn.linear_model import LogisticRegression\n",
    "from sklearn.preprocessing import MinMaxScaler\n",
    "from sklearn.preprocessing import StandardScaler\n",
    "from sklearn.preprocessing import RobustScaler\n",
    "import time\n",
    "\n",
    "start_time = time.time()\n",
    "\n",
    "logreg = LogisticRegression(max_iter=5000, random_state=0)\n",
    "\n",
    "minmax = MinMaxScaler()\n",
    "scaler = StandardScaler()\n",
    "robust = RobustScaler() # muito demorado\n",
    "\n",
    "# pipe = Pipeline(steps=[('robus', robust), ('logreg', logreg)])\n",
    "pipe = Pipeline(steps=[('minmax', minmax), ('scaler', scaler), ('logreg', logreg)])\n",
    "\n",
    "# Parameters of pipelines can be set using ‘__’ separated parameter names:\n",
    "#param_grid = {\n",
    "#    'logreg__penalty':('l1', 'l2', 'elasticnet', 'none'),\n",
    "#    'logreg__solver': ('newton-cg', 'lbfgs', 'liblinear', 'sag', 'saga'),\n",
    "#    'logreg__C':[1, 3, 5]\n",
    "#}\n",
    "\n",
    "\n",
    "param_grid = [\n",
    "    {\n",
    "      'logreg__penalty': ('l2', 'none'),\n",
    "      'logreg__solver': ('newton-cg', 'lbfgs', 'sag'),\n",
    "    },\n",
    "    {\n",
    "      'logreg__penalty': ('l1', 'l2'),\n",
    "      'logreg__solver': (['liblinear']),\n",
    "      'logreg__C': [1, 3, 5]\n",
    "    },\n",
    "    {\n",
    "      'logreg__penalty': ('l2', 'elasticnet'),\n",
    "      'logreg__solver': (['saga']),\n",
    "      'logreg__C': [1, 3, 5]\n",
    "    }\n",
    "]\n",
    "\n",
    "search = GridSearchCV(pipe, param_grid, n_jobs=-1)\n",
    "\n",
    "search.fit(X_train, y_train)\n",
    "print(\"Best parameter (CV score=%0.3f):\" % search.best_score_)\n",
    "print(search.best_params_)\n",
    "\n",
    "tempo  = time.time() - start_time\n",
    "print(\"\\n--- %s seconds ---\" % (round(tempo)))\n",
    "\n",
    "# alguma mudança no LogistRegression\n",
    "# ValueError: Solver newton-cg supports only 'l2' or 'none' penalties, got l1 penalty.\n",
    "# ValueError: Solver lbfgs supports only 'l2' or 'none' penalties, got elasticnet penalty."
   ]
  },
  {
   "cell_type": "markdown",
   "metadata": {},
   "source": [
    "------------\n",
    "### AdaBoostClassifier"
   ]
  },
  {
   "cell_type": "code",
   "execution_count": 58,
   "metadata": {},
   "outputs": [
    {
     "name": "stdout",
     "output_type": "stream",
     "text": [
      "Best parameter (CV score=0.808):\n",
      "{'aboost__learning_rate': 0.2, 'aboost__n_estimators': 200}\n",
      "\n",
      "--- 45 seconds ---\n"
     ]
    }
   ],
   "source": [
    "from sklearn.ensemble import AdaBoostClassifier\n",
    "import time\n",
    "\n",
    "start_time = time.time()\n",
    "\n",
    "pipe = Pipeline([('minmax', MinMaxScaler()),('aboost', AdaBoostClassifier())])\n",
    "\n",
    "params = {\n",
    "    'aboost__n_estimators': [100, 200, 300], \n",
    "    'aboost__learning_rate': [0.2, 0.5, 1], \n",
    "}\n",
    "\n",
    "grid = GridSearchCV(estimator=pipe,           \n",
    "                  param_grid=params, \n",
    "                  cv=5,\n",
    "                  return_train_score=True) # Turn on cv train scores\n",
    "\n",
    "grid.fit(X_train, y_train)\n",
    "\n",
    "print(\"Best parameter (CV score=%0.3f):\" % grid.best_score_)\n",
    "print(grid.best_params_)\n",
    "\n",
    "tempo  = time.time() - start_time\n",
    "print(\"\\n--- %s seconds ---\" % (round(tempo)))"
   ]
  },
  {
   "cell_type": "markdown",
   "metadata": {},
   "source": [
    "---------------------\n",
    "### XGBoosting"
   ]
  },
  {
   "cell_type": "code",
   "execution_count": 78,
   "metadata": {},
   "outputs": [
    {
     "name": "stdout",
     "output_type": "stream",
     "text": [
      "[15:56:25] WARNING: ../src/learner.cc:576: \n",
      "Parameters: { \"label_encoder\" } might not be used.\n",
      "\n",
      "  This could be a false alarm, with some parameters getting used by language bindings but\n",
      "  then being mistakenly passed down to XGBoost core, or some parameter actually being used\n",
      "  but getting flagged wrongly here. Please open an issue if you find any such cases.\n",
      "\n",
      "\n",
      "[[411  53]\n",
      " [ 57 417]]\n",
      "Accuracy: 88.27%\n",
      "\n",
      "--- 1 seconds ---\n"
     ]
    }
   ],
   "source": [
    "import xgboost as xgb\n",
    "from sklearn.metrics import auc, accuracy_score, confusion_matrix, mean_squared_error\n",
    "import time\n",
    "\n",
    "start_time = time.time()\n",
    "xgb_model = xgb.XGBClassifier(objective=\"binary:logistic\", \n",
    "                              eval_metric = \"logloss\", \n",
    "                              random_state=42, \n",
    "                              label_encoder=False)\n",
    "\n",
    "xgb_model.fit(X_train, y_train)\n",
    "\n",
    "y_pred = xgb_model.predict(X_test)\n",
    "\n",
    "print(confusion_matrix(y_test, y_pred))\n",
    "\n",
    "predictions = [round(value) for value in y_pred]\n",
    "\n",
    "# evaluate predictions\n",
    "accuracy = accuracy_score(y_test, predictions)\n",
    "print(\"Accuracy: %.2f%%\" % (accuracy * 100.0))\n",
    "\n",
    "tempo  = time.time() - start_time\n",
    "print(\"\\n--- %s seconds ---\" % (round(tempo)))"
   ]
  },
  {
   "cell_type": "code",
   "execution_count": null,
   "metadata": {},
   "outputs": [],
   "source": []
  }
 ],
 "metadata": {
  "kernelspec": {
   "display_name": "Python 3 (ipykernel)",
   "language": "python",
   "name": "python3"
  },
  "language_info": {
   "codemirror_mode": {
    "name": "ipython",
    "version": 3
   },
   "file_extension": ".py",
   "mimetype": "text/x-python",
   "name": "python",
   "nbconvert_exporter": "python",
   "pygments_lexer": "ipython3",
   "version": "3.9.7"
  }
 },
 "nbformat": 4,
 "nbformat_minor": 4
}
